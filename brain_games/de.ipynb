{
 "cells": [
  {
   "cell_type": "code",
   "execution_count": 49,
   "metadata": {},
   "outputs": [
    {
     "ename": "TypeError",
     "evalue": "'int' object is not callable",
     "output_type": "error",
     "traceback": [
      "\u001b[0;31m---------------------------------------------------------------------------\u001b[0m",
      "\u001b[0;31mTypeError\u001b[0m                                 Traceback (most recent call last)",
      "Cell \u001b[0;32mIn[49], line 10\u001b[0m\n\u001b[1;32m      8\u001b[0m \u001b[39m#cut = data[randint(0,len(data))]\u001b[39;00m\n\u001b[1;32m      9\u001b[0m list2 \u001b[39m=\u001b[39m list1\n\u001b[0;32m---> 10\u001b[0m \u001b[39mprint\u001b[39m(\u001b[39mlen\u001b[39;49m(list2))\n\u001b[1;32m     11\u001b[0m cut \u001b[39m=\u001b[39m list1[\u001b[39m2\u001b[39m]\n\u001b[1;32m     12\u001b[0m \u001b[39mprint\u001b[39m(list1)\n",
      "\u001b[0;31mTypeError\u001b[0m: 'int' object is not callable"
     ]
    }
   ],
   "source": [
    "    from random import randint\n",
    "    \n",
    "    start = randint(2, 4)\n",
    "    itera = randint(2, 4)\n",
    "    leng = randint(5,10)\n",
    "    stop = start + itera*leng\n",
    "    list1 = [i for i in range(start, stop, itera)]\n",
    "    #cut = data[randint(0,len(data))]\n",
    "    list2 = len(list1)\n",
    "    print(len(list2))\n",
    "    cut = list1[2]\n",
    "    print(list1)\n",
    "    print(cut)"
   ]
  }
 ],
 "metadata": {
  "kernelspec": {
   "display_name": ".venv",
   "language": "python",
   "name": "python3"
  },
  "language_info": {
   "codemirror_mode": {
    "name": "ipython",
    "version": 3
   },
   "file_extension": ".py",
   "mimetype": "text/x-python",
   "name": "python",
   "nbconvert_exporter": "python",
   "pygments_lexer": "ipython3",
   "version": "3.10.6"
  },
  "orig_nbformat": 4
 },
 "nbformat": 4,
 "nbformat_minor": 2
}
